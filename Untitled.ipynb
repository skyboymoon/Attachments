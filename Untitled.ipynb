{
 "cells": [
  {
   "cell_type": "code",
   "execution_count": 1,
   "metadata": {},
   "outputs": [],
   "source": [
    "from IPython.display import HTML\n",
    "import pandas as pd\n",
    "import numpy as np\n",
    "import base64\n"
   ]
  },
  {
   "cell_type": "code",
   "execution_count": 2,
   "metadata": {},
   "outputs": [],
   "source": [
    "def create_download_link(df, title = \"Download CSV file\", filename = \"data.csv\"):  \n",
    "    csv = df.to_csv()\n",
    "    b64 = base64.b64encode(csv.encode())\n",
    "    payload = b64.decode()\n",
    "    html = '<a download=\"{filename}\" href=\"data:text/csv;base64,{payload}\" target=\"_blank\">{title}</a>'\n",
    "    html = html.format(payload=payload,title=title,filename=filename)\n",
    "    return HTML(html)"
   ]
  },
  {
   "cell_type": "code",
   "execution_count": 3,
   "metadata": {},
   "outputs": [
    {
     "data": {
      "text/html": [
       "<a download=\"data.csv\" href=\"data:text/csv;base64,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\" target=\"_blank\">Download CSV file</a>"
      ],
      "text/plain": [
       "<IPython.core.display.HTML object>"
      ]
     },
     "execution_count": 3,
     "metadata": {},
     "output_type": "execute_result"
    }
   ],
   "source": [
    "df = pd.DataFrame(np.random.randn(50, 4), columns=list('ABCD'))\n",
    "\n",
    "# create a link to download the dataframe\n",
    "create_download_link(df)\n"
   ]
  },
  {
   "cell_type": "code",
   "execution_count": 4,
   "metadata": {},
   "outputs": [],
   "source": [
    "from IPython.display import HTML\n",
    "import pandas as pd\n",
    "import numpy as np\n",
    "import base64\n",
    "def create_download_link(df, title = \"Download CSV file\", filename = \"data.csv\"):  \n",
    "    csv = df.to_csv()\n",
    "    b64 = base64.b64encode(csv.encode())\n",
    "    payload = b64.decode()\n",
    "    html = '<a download=\"{filename}\" href=\"data:text/csv;base64,{payload}\" target=\"_blank\">{title}</a>'\n",
    "    html = html.format(payload=payload,title=title,filename=filename)\n",
    "    return HTML(html)"
   ]
  },
  {
   "cell_type": "code",
   "execution_count": null,
   "metadata": {},
   "outputs": [],
   "source": []
  }
 ],
 "metadata": {
  "kernelspec": {
   "display_name": "Python 3",
   "language": "python",
   "name": "python3"
  },
  "language_info": {
   "codemirror_mode": {
    "name": "ipython",
    "version": 3
   },
   "file_extension": ".py",
   "mimetype": "text/x-python",
   "name": "python",
   "nbconvert_exporter": "python",
   "pygments_lexer": "ipython3",
   "version": "3.8.5"
  }
 },
 "nbformat": 4,
 "nbformat_minor": 4
}
